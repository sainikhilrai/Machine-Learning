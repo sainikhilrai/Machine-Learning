{
 "cells": [
  {
   "cell_type": "code",
   "execution_count": 16,
   "metadata": {},
   "outputs": [],
   "source": [
    "import numpy as np\n",
    "import pandas as pd\n",
    "import scipy.stats as stats\n",
    "import matplotlib.pyplot as plt\n",
    "import sklearn\n",
    "import statsmodels.api as sm\n",
    "from sklearn.model_selection import train_test_split\n",
    "\n",
    "import seaborn as sns\n",
    "sns.set_style(\"whitegrid\")\n",
    "sns.set_context(\"poster\")\n",
    "\n",
    "# special matplotlib argument for improved plots\n",
    "from matplotlib import rcParams\n"
   ]
  },
  {
   "cell_type": "code",
   "execution_count": 3,
   "metadata": {
    "collapsed": true
   },
   "outputs": [],
   "source": [
    "#hypothesis function: y = a + bx\n",
    "def hypothesisFunction(theta,X):\n",
    "    y = np.matmul(theta,X.T)\n",
    "    return y\n"
   ]
  },
  {
   "cell_type": "code",
   "execution_count": 4,
   "metadata": {
    "collapsed": true
   },
   "outputs": [],
   "source": [
    "#gradient descent method\n",
    "def gradientDescentMethod(learningRate,toleranceValue,theta,thetaOld,X,Y):\n",
    "    #print(\"tolerance Value:\",toleranceValue)\n",
    "    #print(\"outside Norm:\",np.linalg.norm(theta - thetaOld,ord = 2))\n",
    "    while (np.linalg.norm(theta - thetaOld,ord = 2)) >= toleranceValue:\n",
    "        thetaOld = theta\n",
    "        theta = thetaOld - (learningRate/X.shape[0])*np.matmul((hypothesisFunction(theta,X)-Y.T),X)\n",
    "        #print(\"Inside Norm:\",np.linalg.norm(theta - thetaOld,ord = 2))\n",
    "    return theta"
   ]
  },
  {
   "cell_type": "code",
   "execution_count": 5,
   "metadata": {
    "collapsed": true
   },
   "outputs": [],
   "source": [
    "#loading datasets\n",
    "from sklearn.datasets import load_boston\n",
    "boston = load_boston()"
   ]
  },
  {
   "cell_type": "code",
   "execution_count": 6,
   "metadata": {
    "collapsed": true
   },
   "outputs": [],
   "source": [
    "#before splitting the data, we need to split the dataset into two: target value and predictor values\n",
    "#Y: Target value ( Boston housing price)\n",
    "#X: Predictor value (All other features)\n",
    "\n",
    "X = boston.data\n",
    "Y = boston.target"
   ]
  },
  {
   "cell_type": "code",
   "execution_count": 7,
   "metadata": {
    "collapsed": true
   },
   "outputs": [],
   "source": [
    "#splitting the dataset\n",
    "X_train, X_test, Y_trainLabel, Y_testLabel = train_test_split(X,Y,test_size= 0.33,random_state=5) \n",
    "\n",
    "X_train = np.insert(X_train,0,1,axis=1) #adding ones to add the bias term\n",
    "X_test = np.insert(X_test,0,1,axis=1)  #adding ones to add the bias term\n"
   ]
  },
  {
   "cell_type": "code",
   "execution_count": 8,
   "metadata": {
    "collapsed": true
   },
   "outputs": [],
   "source": [
    "\n",
    "#initialisation of theta\n",
    "theta = np.ones(X_train.shape[1])\n",
    "thetaOld = float('inf')\n"
   ]
  },
  {
   "cell_type": "code",
   "execution_count": 23,
   "metadata": {
    "collapsed": true
   },
   "outputs": [],
   "source": [
    "#initialization of parameters for the gradientDescentMethod\n",
    "learningRate = 0.0000001\n",
    "toleranceValue = 0.0000001"
   ]
  },
  {
   "cell_type": "code",
   "execution_count": 24,
   "metadata": {},
   "outputs": [
    {
     "name": "stdout",
     "output_type": "stream",
     "text": [
      "[ 1.31678365 -0.15137084  0.05673138 -0.04106035  1.03688093  1.13635885\n",
      "  4.37519681  0.01277755 -0.62884057  0.20365144 -0.00968627 -0.21886681\n",
      "  0.01957311 -0.50056291]\n"
     ]
    }
   ],
   "source": [
    "#training\n",
    "optimumTheta = gradientDescentMethod(learningRate,toleranceValue,theta,thetaOld,X_train,Y_trainLabel)\n",
    "print (optimumTheta)"
   ]
  },
  {
   "cell_type": "code",
   "execution_count": 28,
   "metadata": {
    "collapsed": true
   },
   "outputs": [],
   "source": [
    "#testing classifier\n",
    "prediction = hypothesisFunction(optimumTheta,X_test)\n",
    "\n",
    "#training error\n",
    "trainPrediction = hypothesisFunction(optimumTheta,X_train)"
   ]
  },
  {
   "cell_type": "code",
   "execution_count": 29,
   "metadata": {},
   "outputs": [
    {
     "name": "stdout",
     "output_type": "stream",
     "text": [
      "('Test:', 32.21887131191145)\n",
      "('train:', 22.782737723028134)\n"
     ]
    }
   ],
   "source": [
    "#mse error\n",
    "\n",
    "mse = sklearn.metrics.mean_squared_error(Y_testLabel, prediction)\n",
    "print(\"Test:\",mse)\n",
    "\n",
    "mse = sklearn.metrics.mean_squared_error(Y_trainLabel, trainPrediction)\n",
    "print(\"train:\",mse)"
   ]
  },
  {
   "cell_type": "markdown",
   "metadata": {},
   "source": [
    "|learning Rate|tolerance Value|time|MSE (train)|MSE(test)|\n",
    "|:----:|:----:|:----:|:----:|:----:|\n",
    "|0.000001|0.000001|0m21.767s| 22.78|32.22|\n",
    "|0.0000001|0.000001|0m8.151|44.42|52.52|\n",
    "|0.0000001|0.0000001|6m9.953|22.78|32.22|\n",
    "|0.000001|0.0000001|1m5.795s|21.29|31.43|\n",
    "\n",
    "\n",
    "\n",
    "\n",
    "\t"
   ]
  },
  {
   "cell_type": "markdown",
   "metadata": {},
   "source": [
    "The above table shows the different mean square error for both the training and the test set. We found that for learning rate = 0.000001 and tolerance Value = 0.0000001, we got the less mean square error for both the training and the test set. Following figure shows the graph for the predicted and true values:"
   ]
  },
  {
   "cell_type": "code",
   "execution_count": 27,
   "metadata": {},
   "outputs": [
    {
     "data": {
      "image/png": "[encoded data removed]",
      "text/plain": [
       "<matplotlib.figure.Figure at 0x7f199e098c50>"
      ]
     },
     "metadata": {},
     "output_type": "display_data"
    }
   ],
   "source": [
    "plt.scatter(Y_testLabel,prediction)\n",
    "plt.xlabel(\"Prices: $Y_i$ \")\n",
    "plt.ylabel(\"Predicted Prices: $\\hat{Y}_i$\")\n",
    "plt.title(\"Prices vs Predicted prices: $Y_i$ vs $\\hat{Y}_i$\")\n",
    "plt.show()"
   ]
  },
  {
   "cell_type": "code",
   "execution_count": null,
   "metadata": {
    "collapsed": true
   },
   "outputs": [],
   "source": []
  }
 ],
 "metadata": {
  "kernelspec": {
   "display_name": "Python 2",
   "language": "python",
   "name": "python2"
  },
  "language_info": {
   "codemirror_mode": {
    "name": "ipython",
    "version": 2
   },
   "file_extension": ".py",
   "mimetype": "text/x-python",
   "name": "python",
   "nbconvert_exporter": "python",
   "pygments_lexer": "ipython2",
   "version": "2.7.14"
  }
 },
 "nbformat": 4,
 "nbformat_minor": 2
}

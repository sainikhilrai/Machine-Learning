{
 "cells": [
  {
   "cell_type": "markdown",
   "metadata": {},
   "source": [
    "#     This is the write up for the 'lambda' function in python "
   ]
  },
  {
   "cell_type": "markdown",
   "metadata": {},
   "source": [
    "The lambda operator or lambda function is a way to create small anonymous functions, i.e. functions without name, at run time. These functions are throw-away functions i.e. they are just needed  where they have been created. Lambda fucntion are mainly used in combination with the functions filter(), map() and reduce(). The lambda features was added to the Python due to the demand from Lisp programmer."
   ]
  },
  {
   "cell_type": "markdown",
   "metadata": {},
   "source": [
    "The general syntax of a lambda function is given below:"
   ]
  },
  {
   "cell_type": "raw",
   "metadata": {},
   "source": [
    "lambda arg1, arg2, ...argN : expression using arguments"
   ]
  },
  {
   "cell_type": "markdown",
   "metadata": {},
   "source": [
    "The argument list consists of a comma separated list of arguments and the expression is an arithmetic expression using these arguments. You can assign the function to a variable to give it a name."
   ]
  },
  {
   "cell_type": "code",
   "execution_count": 2,
   "metadata": {},
   "outputs": [
    {
     "name": "stdout",
     "output_type": "stream",
     "text": [
      "('answer:', 100)\n"
     ]
    }
   ],
   "source": [
    "#this function finds the square of the given number 'x':\n",
    "\n",
    "square = lambda x: x**2\n",
    "print (\"answer:\",square(10))"
   ]
  },
  {
   "cell_type": "markdown",
   "metadata": {},
   "source": [
    "Like def, the lambda creates a function to be called later. But it returns the function instead of assigning it to a name. This is why lambdas are sometimes known as anonymous functions. In practice, they are used as a way to inline a function definition, or to defer execution of a code."
   ]
  },
  {
   "cell_type": "markdown",
   "metadata": {},
   "source": [
    "The following code shows the difference between a normal function definition, func and a lambda function, lamb:"
   ]
  },
  {
   "cell_type": "code",
   "execution_count": 13,
   "metadata": {},
   "outputs": [
    {
     "name": "stdout",
     "output_type": "stream",
     "text": [
      "('function:', 4)\n",
      "('lambda:', 4)\n"
     ]
    }
   ],
   "source": [
    "#function definition\n",
    "def func(x):\n",
    "    return x**2\n",
    "print(\"function:\",func(2))\n",
    "\n",
    "#lambda function\n",
    "l = lambda x: x**2\n",
    "print(\"lambda:\", l(2))\n"
   ]
  },
  {
   "cell_type": "markdown",
   "metadata": {},
   "source": [
    "As we can see, func() and lamb() do exactly the same and can be used in the same ways. Note that the lambda definition does not include a return statement, it always contains an expression which is returned. Also note that we can put a lambda definition anywhere a function is expected, and we don't have to assign it to a variable at all."
   ]
  },
  {
   "cell_type": "markdown",
   "metadata": {
    "collapsed": true
   },
   "source": [
    "# Why lambda?"
   ]
  },
  {
   "cell_type": "markdown",
   "metadata": {},
   "source": [
    "The lambdas can be used as a function shorthand that allows us to embed a function within the code. For instance, callback handlers are frequently coded as inline lambda expressions embedded directly in a registration call's arguments list. Instead of being define with a def elsewhere in a file and referenced by name, lambdas are also commonly used to code jump tables which are lists or dictionaries of actions to be performed on demand."
   ]
  },
  {
   "cell_type": "code",
   "execution_count": 14,
   "metadata": {},
   "outputs": [
    {
     "name": "stdout",
     "output_type": "stream",
     "text": [
      "('Value:', 9)\n",
      "('Value:', 27)\n",
      "('Value:', 81)\n"
     ]
    }
   ],
   "source": [
    "container = [lambda x: x ** 2,\n",
    "             lambda x: x ** 3,\n",
    "             lambda x: x ** 4]\n",
    "for f in container:\n",
    "    print(\"Value:\",f(3))\n"
   ]
  },
  {
   "cell_type": "markdown",
   "metadata": {},
   "source": [
    "In the example above, a list of three functions was built up by embedding lambda expressions inside a list. A def won't work inside a list literal like this because it is a statement, not an expression. If we really want to use def for the same result, we need temporary function names and definitions outside:"
   ]
  },
  {
   "cell_type": "code",
   "execution_count": 15,
   "metadata": {},
   "outputs": [
    {
     "name": "stdout",
     "output_type": "stream",
     "text": [
      "('value:', 9)\n",
      "('value:', 27)\n",
      "('value:', 81)\n"
     ]
    }
   ],
   "source": [
    "def f1(x): return x ** 2\n",
    "\n",
    "def f2(x): return x ** 3\n",
    "\n",
    "def f3(x): return x ** 4\n",
    "\n",
    "# Reference by name\n",
    "container = [f1, f2, f3]\n",
    "for f in container:\n",
    "    print(\"value:\",f(3))"
   ]
  },
  {
   "cell_type": "markdown",
   "metadata": {},
   "source": [
    "This works but our defs may be far away in our file. The code proximity that lambda provide is useful for functions that will only be used in a single context. Especially, if the three functions are not going to be used anywhere else, it makes sense to embed them within the dictionary as lambdas. Also, the def requires more names for these title functions that may cause name clash with other names in this file."
   ]
  },
  {
   "cell_type": "markdown",
   "metadata": {},
   "source": [
    "If we need to perform loops within a lambda, we can also embed things like map calls and list comprehension expressions."
   ]
  },
  {
   "cell_type": "code",
   "execution_count": 8,
   "metadata": {},
   "outputs": [
    {
     "name": "stdout",
     "output_type": "stream",
     "text": [
      "Chanda Rai Kelam"
     ]
    }
   ],
   "source": [
    "import sys\n",
    "fullname = lambda x: list(map(sys.stdout.write,x))\n",
    "f = fullname(['Chanda ', 'Rai ', 'Kelam'])\n"
   ]
  },
  {
   "cell_type": "markdown",
   "metadata": {},
   "source": [
    "Here is the description of map built-in function.\n"
   ]
  },
  {
   "cell_type": "raw",
   "metadata": {},
   "source": [
    "map(function, iterable, ...)"
   ]
  },
  {
   "cell_type": "markdown",
   "metadata": {},
   "source": [
    "\n",
    "Return an iterator that applies function to every item of iterable, yielding the results. If additional iterable arguments are passed, function must take that many arguments and is applied to the items from all iterables in parallel. With multiple iterables, the iterator stops when the shortest iterable is exhausted.\n",
    "\n",
    "So, in the above example, sys.stdout.write is an argument for function, and the x is an iterable item, list, in the example.\n"
   ]
  },
  {
   "cell_type": "markdown",
   "metadata": {},
   "source": [
    "In the following example, the lambda appears inside a def and so can access the value that the name x has in the function's scope at the time that the enclosing function was called:"
   ]
  },
  {
   "cell_type": "code",
   "execution_count": 10,
   "metadata": {},
   "outputs": [
    {
     "name": "stdout",
     "output_type": "stream",
     "text": [
      "<function <lambda> at 0x7f1380461848>\n"
     ]
    }
   ],
   "source": [
    "def action(x):\n",
    "    # Make and return function, remember x\n",
    "    return (lambda newx: x + newx)\n",
    "\n",
    "ans = action(99)\n",
    "print ans\n"
   ]
  },
  {
   "cell_type": "code",
   "execution_count": 11,
   "metadata": {},
   "outputs": [
    {
     "data": {
      "text/plain": [
       "199"
      ]
     },
     "execution_count": 11,
     "metadata": {},
     "output_type": "execute_result"
    }
   ],
   "source": [
    "ans(100)"
   ]
  },
  {
   "cell_type": "markdown",
   "metadata": {},
   "source": [
    "In the above example the value passed to the function is remembered and used by the lambda function."
   ]
  },
  {
   "cell_type": "code",
   "execution_count": null,
   "metadata": {
    "collapsed": true
   },
   "outputs": [],
   "source": []
  }
 ],
 "metadata": {
  "kernelspec": {
   "display_name": "Python 2",
   "language": "python",
   "name": "python2"
  },
  "language_info": {
   "codemirror_mode": {
    "name": "ipython",
    "version": 2
   },
   "file_extension": ".py",
   "mimetype": "text/x-python",
   "name": "python",
   "nbconvert_exporter": "python",
   "pygments_lexer": "ipython2",
   "version": "2.7.14"
  }
 },
 "nbformat": 4,
 "nbformat_minor": 2
}
